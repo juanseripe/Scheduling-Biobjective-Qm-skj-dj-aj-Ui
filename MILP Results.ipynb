{
 "cells": [
  {
   "cell_type": "code",
   "execution_count": 1,
   "id": "d4380790",
   "metadata": {},
   "outputs": [
    {
     "data": {
      "text/html": [
       "        <script type=\"text/javascript\">\n",
       "        window.PlotlyConfig = {MathJaxConfig: 'local'};\n",
       "        if (window.MathJax) {MathJax.Hub.Config({SVG: {font: \"STIX-Web\"}});}\n",
       "        if (typeof require !== 'undefined') {\n",
       "        require.undef(\"plotly\");\n",
       "        requirejs.config({\n",
       "            paths: {\n",
       "                'plotly': ['https://cdn.plot.ly/plotly-2.11.1.min']\n",
       "            }\n",
       "        });\n",
       "        require(['plotly'], function(Plotly) {\n",
       "            window._Plotly = Plotly;\n",
       "        });\n",
       "        }\n",
       "        </script>\n",
       "        "
      ]
     },
     "metadata": {},
     "output_type": "display_data"
    },
    {
     "data": {
      "text/html": [
       "        <script type=\"text/javascript\">\n",
       "        window.PlotlyConfig = {MathJaxConfig: 'local'};\n",
       "        if (window.MathJax) {MathJax.Hub.Config({SVG: {font: \"STIX-Web\"}});}\n",
       "        if (typeof require !== 'undefined') {\n",
       "        require.undef(\"plotly\");\n",
       "        requirejs.config({\n",
       "            paths: {\n",
       "                'plotly': ['https://cdn.plot.ly/plotly-2.11.1.min']\n",
       "            }\n",
       "        });\n",
       "        require(['plotly'], function(Plotly) {\n",
       "            window._Plotly = Plotly;\n",
       "        });\n",
       "        }\n",
       "        </script>\n",
       "        "
      ]
     },
     "metadata": {},
     "output_type": "display_data"
    }
   ],
   "source": [
    "from sklearn.preprocessing import MinMaxScaler\n",
    "from sklearn.cluster import KMeans\n",
    "from itertools import *\n",
    "from gurobipy import *\n",
    "\n",
    "import gurobipy as gp\n",
    "import numpy as np\n",
    "import pandas as pd\n",
    "import time\n",
    "import matplotlib.pyplot as plt\n",
    "%matplotlib inline\n",
    "import cufflinks as cf\n",
    "from plotly.offline import download_plotlyjs, init_notebook_mode, plot, iplot\n",
    "init_notebook_mode(connected=True)\n",
    "cf.go_offline()\n",
    "import math\n",
    "import datetime\n",
    "import os"
   ]
  },
  {
   "cell_type": "code",
   "execution_count": 2,
   "id": "8da7fc6e",
   "metadata": {},
   "outputs": [],
   "source": [
    "#Funciones traduccion de resultados MILP\n",
    "def traducir(x):\n",
    "    #Traducir informacion\n",
    "    resultados = pd.DataFrame([var.varName for var in x.values() if var.X > 0.99])\n",
    "    nombres = ['Maquina', 'Bloque1', 'Aplicacion1', 'Bloque2', 'Aplicacion2', 'Dia']\n",
    "    resultados = resultados[0].str.split(',', expand = True).drop(columns = 0)\n",
    "    resultados.columns = nombres\n",
    "    resultados['Dia'] = resultados['Dia'].apply(lambda x: int(x))\n",
    "    resultados['Bloque1'] = resultados['Bloque1'].apply(lambda x: x[2:-1])\n",
    "    resultados['Bloque2'] = resultados['Bloque2'].apply(lambda x: x[2:-1])\n",
    "    resultados['Aplicacion1'] = resultados['Aplicacion1'].apply(lambda x: x[2:-2])\n",
    "    resultados['Aplicacion2'] = resultados['Aplicacion2'].apply(lambda x: x[2:-2])\n",
    "    return(resultados)\n",
    "\n",
    "def ciclos(resultados, J):\n",
    "    #Revisar ciclos\n",
    "    conexion = pd.DataFrame({'Connected' : repeat(0,len(J))}, index = [[j[0] for j in J],[j[1] for j in J]])\n",
    "    conexion.loc[('Bloque 0', '-')] = 1\n",
    "    res0 = resultados[resultados['Bloque1'] == 'Bloque 0']\n",
    "    for i in res0.index:\n",
    "        r = res0.loc[i]\n",
    "        b = r['Bloque2']\n",
    "        h = r['Aplicacion2']\n",
    "        conexion.loc[(b,h)] = conexion.loc[(r['Bloque1'],r['Aplicacion1'])]\n",
    "        while b != 'Bloque 0':\n",
    "            res = resultados[(resultados['Bloque1'] == b) & (resultados['Aplicacion1'] == h)].iloc[0]\n",
    "            conexion.loc[(res['Bloque2'],res['Aplicacion2'])] = conexion.loc[(b,h)]\n",
    "            b = res['Bloque2']\n",
    "            h = res['Aplicacion2']\n",
    "    return(conexion)\n",
    "\n",
    "#Modelo MILP\n",
    "def MILP(rutaIns, rutaSol, instancia):\n",
    "    startTime = time.time()\n",
    "    \n",
    "    #Lectura de parametros\n",
    "    tProcesamiento = pd.read_csv(rutaIns + '/tProcesamiento.csv')\n",
    "    fVelocidad = pd.read_csv(rutaIns + '/fVelocidad.csv')\n",
    "    tDistancia = pd.read_csv(rutaIns + '/tDistancias.csv')\n",
    "    inalcanzable = pd.read_csv(rutaIns + '/inalcanzable.csv')\n",
    "    parametros = pd.read_csv(rutaIns + '/parametros.csv', index_col = 'parametro')\n",
    "    \n",
    "    with gp.Env() as env, gp.Model(env=env) as m:\n",
    "        #Conjuntos\n",
    "        I = [] #Conjunto de Máquinas\n",
    "        B = [] #Conjunto de Bloques\n",
    "        H = [] #Conjunto de Aplicaciones\n",
    "        J = [] #Conjunto de Trabajos\n",
    "        J0 = [] #Conjunto de trabajos sin bodega\n",
    "        U = {} #Bloques inalcanzables por máquina i\n",
    "\n",
    "        #Parámetros\n",
    "        p = {} #Tiempos de procesamiento del trabajo j en la máquina más lenta\n",
    "        v = {} #Factor de velocidad de la máquina i\n",
    "        d = {} #Dia esperado de terminación del trabajo j\n",
    "        a = {} #Dia esperado de inicio del trabajo j\n",
    "        s = {} #Distantancia entre un par de bloques b1 y b2\n",
    "        u = {} #Bloque b inalcanzable por máquina i\n",
    "        T = range(1, int(parametros['valor']['numDias'] + 1))\n",
    "\n",
    "        ##Creacion de Parámetros-------------------------\n",
    "\n",
    "        #Info trabajos\n",
    "        for k in tProcesamiento.index:\n",
    "            b = tProcesamiento['Bloque'][k]\n",
    "            h = tProcesamiento['Aplicacion'][k]\n",
    "            j = (b,h)\n",
    "            B.append(b)\n",
    "            H.append(h)\n",
    "            J.append(j)\n",
    "            p[j] = tProcesamiento['tProcesamiento'][k]\n",
    "            d[j] = tProcesamiento['dFin'][k]\n",
    "            a[j] = tProcesamiento['dInicio'][k]\n",
    "        B = list(np.unique(B))\n",
    "        H = list(np.unique(H))\n",
    "        H0 = H.copy()\n",
    "        H0.remove('-')\n",
    "        J0 = J.copy()\n",
    "        J0.remove(('Bloque 0','-'))\n",
    "\n",
    "        #Info máquinas\n",
    "        for k in fVelocidad.index:\n",
    "            i = fVelocidad['Maquina'][k]\n",
    "            I.append(i)\n",
    "            v[i] = fVelocidad['fVelocidad'][k]\n",
    "            U[i] = []\n",
    "        I = list(np.unique(I))\n",
    "\n",
    "        #Info distancias\n",
    "        for k in tDistancia.index:\n",
    "            b1 = tDistancia['Bloque1'][k]\n",
    "            b2 = tDistancia['Bloque2'][k]\n",
    "            s[b1,b2] = tDistancia['Distancia'][k]\n",
    "\n",
    "        #Info inalcanzables\n",
    "        for k in inalcanzable.index:\n",
    "            i = inalcanzable['Maquina'][k]\n",
    "            b = inalcanzable['Bloque'][k]\n",
    "            U[i].append(b)\n",
    "            u[i,b] = inalcanzable['u'][k]\n",
    "            \n",
    "        #Variables\n",
    "        x = m.addVars(product(I,J,J,T), vtype = GRB.BINARY, name = ['x,{0},{1},{2},{3}'.format(i,j,k,t) for i,j,k,t in product(I,J,J,T)])\n",
    "        y = m.addVars(J0,vtype = GRB.BINARY)\n",
    "        z = m.addVars(J0,vtype = GRB.BINARY)\n",
    "        Dia = m.addVars(J0,vtype = GRB.CONTINUOUS)\n",
    "        Earl = m.addVars(J0,vtype = GRB.CONTINUOUS)\n",
    "        Tard = m.addVars(J0,vtype = GRB.CONTINUOUS)\n",
    "\n",
    "        #Restricciones-----\n",
    "        #Disponibilidad\n",
    "        for i in I:\n",
    "            m.addConstr(quicksum(x[i,j,k,t] + x[i,k,j,t] for t,j,k in product(T,[j for j in J if j[0] in U[i]],J)) == 0,\n",
    "                        'Disponibilidad')\n",
    "        #Asignación\n",
    "        for j in J0:\n",
    "            m.addConstr(quicksum(x[i,j,k,t] for t,i,k in product(T,I,J)) == 1, 'Asignacion')\n",
    "        #Reciclo\n",
    "        for t,i,j in product(T,I,J):\n",
    "            m.addConstr(x[i,j,j,t] == 0, 'Reciclo')\n",
    "        #Reciclo pares\n",
    "        for t,i,j,k in product(T,I,J0,J0):\n",
    "            m.addConstr(x[i,j,k,t] + x[i,k,j,t] <= 1, 'Reciclo')\n",
    "        #Inicio-Fin\n",
    "        for t,i in product(T,I):\n",
    "            m.addConstr(quicksum(x[i,('Bloque 0','-'),j,t] for j in J) <= 1, 'Inicio-Fin1')\n",
    "            m.addConstr(quicksum(x[i,('Bloque 0','-'),j,t] for j in J) == quicksum(x[i,j,('Bloque 0','-'),t] for j in J),\n",
    "                        'Inicio-Fin2')\n",
    "            m.addConstr(quicksum(x[i,j,k,t] for j,k in product(J0,J0)) <= len(J) * quicksum(x[i,('Bloque 0','-'),j,t] for j in J),\n",
    "                        'Inicio-Fin3')\n",
    "        #Ruteo\n",
    "        for t,i,j in product(T,I,J):\n",
    "            m.addConstr(quicksum(x[i,j,k1,t] for k1 in J) - quicksum(x[i,k2,j,t] for k2 in J) == 0, 'Ruteo')\n",
    "        #Jornada Laboral\n",
    "        for t,i in product(T,I):\n",
    "            m.addConstr(quicksum(x[i,(b1,h1),(b2,h2),t] * (s[b1,b2] + p[(b1,h1)]/v[i]) for (b1,h1),(b2,h2) in product(J,J)) <= parametros['valor']['Q'],\n",
    "                        'Jornada Laboral')\n",
    "        #Definición Día\n",
    "        for j in J0:\n",
    "            m.addConstr(Dia[j] == quicksum(t * x[i,j,k,t] for t,i,k in product(T,I,J)), 'Dia')\n",
    "        #Definición Earliness\n",
    "        for j in J0:\n",
    "            m.addConstr(a[j] - Dia[j] <= len(T) * y[j], 'Earl1')\n",
    "            m.addConstr(Dia[j] - a[j] <= len(T) * (1 - y[j]), 'Earl2')\n",
    "            m.addConstr(Earl[j] >= a[j] - Dia[j], 'Earl3')\n",
    "            m.addConstr(Earl[j] <= a[j] - Dia[j] + len(T) * (1 - y[j]), 'Earl4')\n",
    "            m.addConstr(Earl[j] <= len(T) * y[j], 'Earl5')\n",
    "        #Definición Tardiness\n",
    "        for j in J0:\n",
    "            m.addConstr(Dia[j] - d[j] <= len(T) * z[j], 'Tard1')\n",
    "            m.addConstr(d[j] - Dia[j] <= len(T) * (1 - z[j]), 'Tard2')\n",
    "            m.addConstr(Tard[j] >= Dia[j] - d[j], 'Tard3')\n",
    "            m.addConstr(Tard[j] <= Dia[j] - d[j] + len(T) * (1 - z[j]), 'Tard4')\n",
    "            m.addConstr(Tard[j] <= len(T) * z[j], 'Tard5')\n",
    "\n",
    "        #Función Objetivo\n",
    "        m.setObjective(parametros['valor']['lambda1'] * quicksum(Earl[j] + Tard[j] for j in J0) +\n",
    "                  parametros['valor']['lambda2'] * quicksum(x[i,(b1,h1),(b2,h2),t] * s[b1,b2]/parametros['valor']['Q']\n",
    "                                                            for t,i,(b1,h1),(b2,h2) in product(T,I,J,J)), GRB.MINIMIZE)\n",
    "\n",
    "        #Correr\n",
    "        m.setParam('OutputFlag', 0)\n",
    "        m.optimize()\n",
    "\n",
    "        #Corte de subciclos\n",
    "        conexion = ciclos(traducir(x), J)\n",
    "        subC = list(conexion[conexion['Connected'] == 0].index)\n",
    "        #Agregar cortes\n",
    "        while len(subC) > 0:\n",
    "            m.addConstr(quicksum(x[i,j,k,t] for t,i,j,k in product(T,I,subC,subC)) <= len(subC)-1, 'SubCiclos')\n",
    "            m.optimize()\n",
    "            conexion = ciclos(traducir(x), J)\n",
    "            subC = list(conexion[conexion['Connected'] == 0].index)\n",
    "        resultados = traducir(x)\n",
    "    resultados = resultados.merge(tDistancia, how = 'left', on = ['Bloque1','Bloque2'])\n",
    "    resultados['Distancia'] = resultados['Distancia'].apply(lambda x: x/parametros['valor']['Q'])\n",
    "    resultados = resultados.merge(tProcesamiento, how = 'left', left_on = ['Bloque1','Aplicacion1'],\n",
    "                                  right_on = ['Bloque','Aplicacion'])\n",
    "    resultados.drop(['Bloque','Aplicacion'], axis = 1, inplace = True)\n",
    "    resultados = resultados.merge(fVelocidad, how = 'left', on = ['Maquina'])\n",
    "    resultados['ProcEfectivo'] = resultados['tProcesamiento']/resultados['fVelocidad']\n",
    "    resultados['Earl-Tard'] = np.maximum(resultados['Dia']-resultados['dFin'],0) + np.maximum(resultados['dInicio']-resultados['Dia'],0)\n",
    "    resultados['Earl-Tard'] = np.where(resultados['Bloque1'] == 'Bloque 0', 0, resultados['Earl-Tard'])\n",
    "    orden = ['Dia'] + list(resultados.columns[:5]) + list(resultados.columns[[6,7,10,11,8,9,12]])\n",
    "    resultados = resultados[orden]\n",
    "    resultados = resultados.sort_values(['Dia','Maquina'])\n",
    "    FO = parametros['valor']['lambda1']*sum(resultados['Earl-Tard']) + parametros['valor']['lambda2']*sum(resultados['Distancia'])\n",
    "        \n",
    "    tiempo = round(time.time() - startTime)\n",
    "    resultados.to_csv(rutaSol + '/resultados MILP.csv', index = False)\n",
    "    \n",
    "    return pd.DataFrame({'Instancia':[instancia], 'FO':[FO], 'Tiempo':[tiempo]})\n",
    "\n",
    "\n",
    "#Correr modelo:\n",
    "def run(tam, nInstancias):\n",
    "    metricas = pd.DataFrame()\n",
    "    rutaIns = 'Instancias/' + tam\n",
    "    rutaSol = 'Resultados/' + tam\n",
    "    \n",
    "    if not os.path.isdir(rutaSol):\n",
    "        os.mkdir(rutaSol)\n",
    "        \n",
    "    for inst in range(1, nInstancias+1):\n",
    "        instancia = '/Instancia ' + str(inst)\n",
    "        rutaIns = 'Instancias/' + tam + instancia\n",
    "        rutaSol = 'Resultados/' + tam + instancia\n",
    "\n",
    "        if not os.path.isdir(rutaSol):\n",
    "            os.mkdir(rutaSol)\n",
    "        \n",
    "        res = MILP(rutaIns, rutaSol, instancia[1:])\n",
    "        metricas = metricas.append(res, ignore_index = True)\n",
    "            \n",
    "    metricas.to_csv('Resultados/' + tam + '/metricas MILP.csv', index = False)\n",
    "    return metricas"
   ]
  },
  {
   "cell_type": "code",
   "execution_count": null,
   "id": "184ee210",
   "metadata": {
    "scrolled": true
   },
   "outputs": [
    {
     "name": "stdout",
     "output_type": "stream",
     "text": [
      "Set parameter Username\n",
      "Academic license - for non-commercial use only - expires 2022-06-09\n",
      "Set parameter Username\n",
      "Academic license - for non-commercial use only - expires 2022-06-09\n"
     ]
    },
    {
     "name": "stderr",
     "output_type": "stream",
     "text": [
      "/var/folders/wq/9r9y5cp52f9_q3yrjtwy1_d80000gn/T/ipykernel_40252/3970370943.py:213: FutureWarning:\n",
      "\n",
      "The frame.append method is deprecated and will be removed from pandas in a future version. Use pandas.concat instead.\n",
      "\n"
     ]
    },
    {
     "name": "stdout",
     "output_type": "stream",
     "text": [
      "Set parameter Username\n",
      "Academic license - for non-commercial use only - expires 2022-06-09\n"
     ]
    },
    {
     "name": "stderr",
     "output_type": "stream",
     "text": [
      "/var/folders/wq/9r9y5cp52f9_q3yrjtwy1_d80000gn/T/ipykernel_40252/3970370943.py:213: FutureWarning:\n",
      "\n",
      "The frame.append method is deprecated and will be removed from pandas in a future version. Use pandas.concat instead.\n",
      "\n"
     ]
    },
    {
     "name": "stdout",
     "output_type": "stream",
     "text": [
      "Set parameter Username\n",
      "Academic license - for non-commercial use only - expires 2022-06-09\n"
     ]
    },
    {
     "name": "stderr",
     "output_type": "stream",
     "text": [
      "/var/folders/wq/9r9y5cp52f9_q3yrjtwy1_d80000gn/T/ipykernel_40252/3970370943.py:213: FutureWarning:\n",
      "\n",
      "The frame.append method is deprecated and will be removed from pandas in a future version. Use pandas.concat instead.\n",
      "\n"
     ]
    },
    {
     "name": "stdout",
     "output_type": "stream",
     "text": [
      "Set parameter Username\n",
      "Academic license - for non-commercial use only - expires 2022-06-09\n"
     ]
    },
    {
     "name": "stderr",
     "output_type": "stream",
     "text": [
      "/var/folders/wq/9r9y5cp52f9_q3yrjtwy1_d80000gn/T/ipykernel_40252/3970370943.py:213: FutureWarning:\n",
      "\n",
      "The frame.append method is deprecated and will be removed from pandas in a future version. Use pandas.concat instead.\n",
      "\n"
     ]
    },
    {
     "name": "stdout",
     "output_type": "stream",
     "text": [
      "Set parameter Username\n",
      "Academic license - for non-commercial use only - expires 2022-06-09\n"
     ]
    },
    {
     "name": "stderr",
     "output_type": "stream",
     "text": [
      "/var/folders/wq/9r9y5cp52f9_q3yrjtwy1_d80000gn/T/ipykernel_40252/3970370943.py:213: FutureWarning:\n",
      "\n",
      "The frame.append method is deprecated and will be removed from pandas in a future version. Use pandas.concat instead.\n",
      "\n"
     ]
    },
    {
     "name": "stdout",
     "output_type": "stream",
     "text": [
      "Set parameter Username\n",
      "Academic license - for non-commercial use only - expires 2022-06-09\n"
     ]
    },
    {
     "name": "stderr",
     "output_type": "stream",
     "text": [
      "/var/folders/wq/9r9y5cp52f9_q3yrjtwy1_d80000gn/T/ipykernel_40252/3970370943.py:213: FutureWarning:\n",
      "\n",
      "The frame.append method is deprecated and will be removed from pandas in a future version. Use pandas.concat instead.\n",
      "\n"
     ]
    },
    {
     "name": "stdout",
     "output_type": "stream",
     "text": [
      "Set parameter Username\n",
      "Academic license - for non-commercial use only - expires 2022-06-09\n"
     ]
    },
    {
     "name": "stderr",
     "output_type": "stream",
     "text": [
      "/var/folders/wq/9r9y5cp52f9_q3yrjtwy1_d80000gn/T/ipykernel_40252/3970370943.py:213: FutureWarning:\n",
      "\n",
      "The frame.append method is deprecated and will be removed from pandas in a future version. Use pandas.concat instead.\n",
      "\n"
     ]
    },
    {
     "name": "stdout",
     "output_type": "stream",
     "text": [
      "Set parameter Username\n",
      "Academic license - for non-commercial use only - expires 2022-06-09\n"
     ]
    },
    {
     "name": "stderr",
     "output_type": "stream",
     "text": [
      "/var/folders/wq/9r9y5cp52f9_q3yrjtwy1_d80000gn/T/ipykernel_40252/3970370943.py:213: FutureWarning:\n",
      "\n",
      "The frame.append method is deprecated and will be removed from pandas in a future version. Use pandas.concat instead.\n",
      "\n"
     ]
    }
   ],
   "source": [
    "run('Pequena', 10)"
   ]
  }
 ],
 "metadata": {
  "kernelspec": {
   "display_name": "Python 3 (ipykernel)",
   "language": "python",
   "name": "python3"
  },
  "language_info": {
   "codemirror_mode": {
    "name": "ipython",
    "version": 3
   },
   "file_extension": ".py",
   "mimetype": "text/x-python",
   "name": "python",
   "nbconvert_exporter": "python",
   "pygments_lexer": "ipython3",
   "version": "3.9.12"
  }
 },
 "nbformat": 4,
 "nbformat_minor": 5
}
